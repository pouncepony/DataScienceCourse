{
 "cells": [
  {
   "cell_type": "markdown",
   "id": "03f5a6d7-95c3-4e48-be08-64c92b7f879d",
   "metadata": {},
   "source": [
    "# Data Science Tools and Ecosystem"
   ]
  },
  {
   "cell_type": "markdown",
   "id": "0e0311e1-b4df-4298-aa74-b0648427e7f1",
   "metadata": {},
   "source": [
    "In this notebook, Data Science Tools and Ecosystem are summarized."
   ]
  },
  {
   "cell_type": "markdown",
   "id": "1aa8f256-1fc5-4f53-b35e-612f256b9896",
   "metadata": {},
   "source": [
    "**Objectives**\n",
    "* List popular languages for Data Science\n",
    "* List popular libraries for Data Science\n",
    "* List popular Data Science Tools\n",
    "* Demonstrate arithmetic expressions"
   ]
  },
  {
   "cell_type": "markdown",
   "id": "83186f19-ca59-4ba1-8cc8-d4b14da90f34",
   "metadata": {
    "tags": []
   },
   "source": [
    "Some of the popular langauges that Data Scientists use are:\n",
    "1. Python\n",
    "2. R\n",
    "3.Julia"
   ]
  },
  {
   "cell_type": "markdown",
   "id": "684c8461-c007-4eae-aab0-f4ba8bb149ed",
   "metadata": {},
   "source": [
    "Some of the commonly used libraries used by Data Scientists include:\n",
    "1. NumPy\n",
    "2. Pandas\n",
    "3. SciKit-Learn\n"
   ]
  },
  {
   "cell_type": "markdown",
   "id": "90b05176-33e0-4151-b198-ba6ebbbdf6e0",
   "metadata": {
    "tags": []
   },
   "source": [
    "|Data Science Tools|\n",
    "|--------------|\n",
    "|VisualStudio Code|\n",
    "|JupyterLab|\n",
    "|RStudio|"
   ]
  },
  {
   "cell_type": "markdown",
   "id": "3871c81d-e0dc-4266-ba14-f7d21855f8e9",
   "metadata": {},
   "source": [
    "### Below are a few examples of Evaluating arithmetic expressions in Python"
   ]
  },
  {
   "cell_type": "code",
   "execution_count": 6,
   "id": "c79679f6-732e-4e84-a347-629f73b746ec",
   "metadata": {
    "tags": []
   },
   "outputs": [
    {
     "data": {
      "text/plain": [
       "17"
      ]
     },
     "execution_count": 6,
     "metadata": {},
     "output_type": "execute_result"
    }
   ],
   "source": [
    "# This is a simple arithmetic expresion to multiply then add integers\n",
    "(3*4)+5"
   ]
  },
  {
   "cell_type": "code",
   "execution_count": 7,
   "id": "cd93b9c2-fa38-4670-9082-c82e51acbb76",
   "metadata": {
    "tags": []
   },
   "outputs": [
    {
     "data": {
      "text/plain": [
       "3.3333333333333335"
      ]
     },
     "execution_count": 7,
     "metadata": {},
     "output_type": "execute_result"
    }
   ],
   "source": [
    "# This will convert 200 minutes into hours by dividing by 60\n",
    "200/60"
   ]
  },
  {
   "cell_type": "markdown",
   "id": "e4d82286-f2d4-44d8-a54f-7efb0aa0566a",
   "metadata": {},
   "source": [
    "## Author\n",
    "Neil Copland"
   ]
  },
  {
   "cell_type": "code",
   "execution_count": null,
   "id": "8357103f-096f-4169-8446-7e68f6405b1f",
   "metadata": {},
   "outputs": [],
   "source": []
  }
 ],
 "metadata": {
  "kernelspec": {
   "display_name": "Python",
   "language": "python",
   "name": "conda-env-python-py"
  },
  "language_info": {
   "codemirror_mode": {
    "name": "ipython",
    "version": 3
   },
   "file_extension": ".py",
   "mimetype": "text/x-python",
   "name": "python",
   "nbconvert_exporter": "python",
   "pygments_lexer": "ipython3",
   "version": "3.7.12"
  }
 },
 "nbformat": 4,
 "nbformat_minor": 5
}
